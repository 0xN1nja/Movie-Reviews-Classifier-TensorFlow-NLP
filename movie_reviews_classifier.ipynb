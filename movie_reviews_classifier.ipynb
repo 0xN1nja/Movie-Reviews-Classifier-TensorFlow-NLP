{
 "cells": [
  {
   "cell_type": "code",
   "execution_count": 161,
   "id": "2b17e106",
   "metadata": {},
   "outputs": [],
   "source": [
    "import tensorflow as tf\n",
    "import numpy as np\n",
    "import pandas as pd\n",
    "import matplotlib.pyplot as plt"
   ]
  },
  {
   "cell_type": "markdown",
   "id": "a07c9d9a",
   "metadata": {},
   "source": [
    "# Create Dataset"
   ]
  },
  {
   "cell_type": "code",
   "execution_count": 162,
   "id": "d3c88a34",
   "metadata": {},
   "outputs": [],
   "source": [
    "df=pd.read_csv(r\"C:\\Users\\speed\\Documents\\NLP Practice (TensorFlow)\\IMDB Dataset.csv\")\n",
    "x=df[\"review\"]\n",
    "y=df[\"sentiment\"]\n",
    "train=[]\n",
    "for i,j in zip(x,y):\n",
    "    train.append([i,0 if j==\"positive\" else 1])\n",
    "x=[]\n",
    "y=[]\n",
    "for i,j in train:\n",
    "    x.append(i)\n",
    "    y.append(j)\n",
    "y=np.array(y)"
   ]
  },
  {
   "cell_type": "markdown",
   "id": "ab2572bc",
   "metadata": {},
   "source": [
    "# Initialize TensorBoard"
   ]
  },
  {
   "cell_type": "code",
   "execution_count": 163,
   "id": "6e641c0c",
   "metadata": {},
   "outputs": [],
   "source": [
    "tsb=tf.keras.callbacks.TensorBoard(log_dir=\"logs\")"
   ]
  },
  {
   "cell_type": "markdown",
   "id": "9db9d750",
   "metadata": {},
   "source": [
    "# Create Tokenizer Object"
   ]
  },
  {
   "cell_type": "code",
   "execution_count": 164,
   "id": "a883c468",
   "metadata": {},
   "outputs": [],
   "source": [
    "token=tf.keras.preprocessing.text.Tokenizer(oov_token=\"<OOV>\")\n",
    "token.fit_on_texts(x)\n",
    "sequences=token.texts_to_sequences(x)\n",
    "padded_sequences=tf.keras.preprocessing.sequence.pad_sequences(sequences,maxlen=50,padding=\"post\",truncating=\"post\")"
   ]
  },
  {
   "cell_type": "markdown",
   "id": "3b8a2fe6",
   "metadata": {},
   "source": [
    "# Create Model"
   ]
  },
  {
   "cell_type": "code",
   "execution_count": 165,
   "id": "1246b09c",
   "metadata": {},
   "outputs": [],
   "source": [
    "model=tf.keras.models.Sequential([\n",
    "    tf.keras.layers.Embedding(len(token.word_index)+1,4,input_length=50),\n",
    "    tf.keras.layers.GlobalAveragePooling1D(),\n",
    "    tf.keras.layers.Dense(128,activation=\"relu\"),\n",
    "    tf.keras.layers.Dropout(0.25),\n",
    "    tf.keras.layers.Dense(1,activation=\"sigmoid\")\n",
    "])"
   ]
  },
  {
   "cell_type": "markdown",
   "id": "b1dd52d4",
   "metadata": {},
   "source": [
    "# Compile The Model"
   ]
  },
  {
   "cell_type": "code",
   "execution_count": 166,
   "id": "ca00e63e",
   "metadata": {},
   "outputs": [],
   "source": [
    "model.compile(optimizer=\"adam\",loss=\"binary_crossentropy\",metrics=[\"accuracy\"])"
   ]
  },
  {
   "cell_type": "markdown",
   "id": "6d121810",
   "metadata": {},
   "source": [
    "# Train The Model"
   ]
  },
  {
   "cell_type": "code",
   "execution_count": 167,
   "id": "4a6a086f",
   "metadata": {},
   "outputs": [
    {
     "name": "stdout",
     "output_type": "stream",
     "text": [
      "Epoch 1/10\n",
      "1094/1094 [==============================] - 21s 18ms/step - loss: 0.5386 - accuracy: 0.7232 - val_loss: 0.4569 - val_accuracy: 0.7835\n",
      "Epoch 2/10\n",
      "1094/1094 [==============================] - 19s 18ms/step - loss: 0.3627 - accuracy: 0.8405 - val_loss: 0.4547 - val_accuracy: 0.7920\n",
      "Epoch 3/10\n",
      "1094/1094 [==============================] - 22s 20ms/step - loss: 0.2796 - accuracy: 0.8872 - val_loss: 0.4820 - val_accuracy: 0.7884\n",
      "Epoch 4/10\n",
      "1094/1094 [==============================] - 20s 18ms/step - loss: 0.2163 - accuracy: 0.9167 - val_loss: 0.5369 - val_accuracy: 0.7813\n",
      "Epoch 5/10\n",
      "1094/1094 [==============================] - 21s 19ms/step - loss: 0.1687 - accuracy: 0.9400 - val_loss: 0.6049 - val_accuracy: 0.7779\n",
      "Epoch 6/10\n",
      "1094/1094 [==============================] - 20s 19ms/step - loss: 0.1329 - accuracy: 0.9539 - val_loss: 0.6817 - val_accuracy: 0.7683\n",
      "Epoch 7/10\n",
      "1094/1094 [==============================] - 20s 19ms/step - loss: 0.1036 - accuracy: 0.9649 - val_loss: 0.7745 - val_accuracy: 0.7639\n",
      "Epoch 8/10\n",
      "1094/1094 [==============================] - 20s 19ms/step - loss: 0.0830 - accuracy: 0.9730 - val_loss: 0.8632 - val_accuracy: 0.7603\n",
      "Epoch 9/10\n",
      "1094/1094 [==============================] - 20s 19ms/step - loss: 0.0658 - accuracy: 0.9795 - val_loss: 0.9618 - val_accuracy: 0.7539\n",
      "Epoch 10/10\n",
      "1094/1094 [==============================] - 21s 19ms/step - loss: 0.0540 - accuracy: 0.9831 - val_loss: 1.0911 - val_accuracy: 0.7486\n"
     ]
    }
   ],
   "source": [
    "history=model.fit(padded_sequences,y,epochs=10,validation_split=0.3,callbacks=[tsb])"
   ]
  },
  {
   "cell_type": "markdown",
   "id": "271db6f2",
   "metadata": {},
   "source": [
    "# Accuracy Graph"
   ]
  },
  {
   "cell_type": "code",
   "execution_count": 168,
   "id": "53d31488",
   "metadata": {},
   "outputs": [
    {
     "data": {
      "text/plain": [
       "<matplotlib.legend.Legend at 0x1a71cc85a30>"
      ]
     },
     "execution_count": 168,
     "metadata": {},
     "output_type": "execute_result"
    },
    {
     "data": {
      "image/png": "[encoded data removed]",
      "text/plain": [
       "<Figure size 432x288 with 1 Axes>"
      ]
     },
     "metadata": {
      "needs_background": "light"
     },
     "output_type": "display_data"
    }
   ],
   "source": [
    "plt.plot(history.history[\"accuracy\"])\n",
    "plt.plot(history.history[\"val_accuracy\"])\n",
    "plt.title(\"Model Accuracy\")\n",
    "plt.ylabel(\"Accuracy\")\n",
    "plt.xlabel(\"Epoch\")\n",
    "plt.legend([\"Train\",\"Validation\"],loc=\"best\")"
   ]
  },
  {
   "cell_type": "markdown",
   "id": "afdcfead",
   "metadata": {},
   "source": [
    "# Loss Graph"
   ]
  },
  {
   "cell_type": "code",
   "execution_count": 169,
   "id": "d238aa5f",
   "metadata": {},
   "outputs": [
    {
     "data": {
      "text/plain": [
       "<matplotlib.legend.Legend at 0x1a71cce0190>"
      ]
     },
     "execution_count": 169,
     "metadata": {},
     "output_type": "execute_result"
    },
    {
     "data": {
      "image/png": "[encoded data removed]",
      "text/plain": [
       "<Figure size 432x288 with 1 Axes>"
      ]
     },
     "metadata": {
      "needs_background": "light"
     },
     "output_type": "display_data"
    }
   ],
   "source": [
    "plt.plot(history.history[\"loss\"])\n",
    "plt.plot(history.history[\"val_loss\"])\n",
    "plt.title(\"Model Loss\")\n",
    "plt.ylabel(\"Loss\")\n",
    "plt.xlabel(\"Epoch\")\n",
    "plt.legend([\"Train\",\"Validation\"],loc=\"best\")"
   ]
  },
  {
   "cell_type": "markdown",
   "id": "7b282433",
   "metadata": {},
   "source": [
    "# Predict On Texts"
   ]
  },
  {
   "cell_type": "code",
   "execution_count": 170,
   "id": "f774d358",
   "metadata": {},
   "outputs": [],
   "source": [
    "test_x=[\"A wonderful little production. <br /><br />The filming technique is very unassuming- very old-time-BBC fashion and gives a comforting, and sometimes discomforting, sense of realism to the entire piece. <br /><br />The actors are extremely well chosen- Michael Sheen not only 'has got all the polari' but he has all the voices down pat too! You can truly see the seamless editing guided by the references to Williams' diary entries, not only is it well worth the watching but it is a terrificly written and performed piece. A masterful production about one of the great master's of comedy and his life. <br /><br />The realism really comes home with the little things: the fantasy of the guard which, rather than use the traditional 'dream' techniques remains solid then disappears. It plays on our knowledge and our senses, particularly with the scenes concerning Orton and Halliwell and the sets (particularly of their flat with Halliwell's murals decorating every surface) are terribly well done.\",\"I bought this film at Blockbuster for $3.00, because it sounded interesting (a bit Ranma-esque, with the idea of someone dragging around a skeleton), because there was a cute girl in a mini-skirt on the back, and because there was a Restricted Viewing sticker on it. I thought it was going to be a sweet or at least sincere coming of age story with a weird indie edge. I was 100% wrong.<br /><br />Having watched it, I have to wonder how it got the restricted sticker, since there is hardly any foul language, little violence, and the closest thing to nudity (Honestly! I don't usually go around hoping for it!) is when the girl is in her nightgown and you see her panties (you see her panties a lot in this movie, because no matter what, she's wearing a miniskirt of some sort). Even the anti-religious humor is tame (and lame, caricatured, insincere, derivative, unoriginal, and worst of all not funny in the slightest--it would be better just to listen to Ray Stevens' 'Would Jesus Wear a Rolex on His Television Show'). This would barely qualify as PG-13 (it is Not Rated), but Blockbuster refuses to let anyone under the age of 17 rent this--as if it was pornographic. Any little kid could go in there and rent the edited version of Requiem for a Dream, but they insist that Zack and Reba is worse.<br /><br />It is, but not in that way.<br /><br />In a way, this worries me--the only thing left that could offend people is the idea of the suicide at the beginning. If anybody needs to see movies with honestly portrayed suicides (not this one, but better ones like The Virgin Suicides), it's teenagers. If both of those movies were rated R purely because of the suicide aspect, then I have little chance of turning a story I've been writing into a PG-13 movie (the main characters are eleven and a half and twelve). Suicide is one of the top three leading causes of death in teenagers (I think it's number 2), so chances are that most teens have been or will be affected by it.<br /><br />Just say no to this movie, though. 2/10.\"]"
   ]
  },
  {
   "cell_type": "code",
   "execution_count": 171,
   "id": "ae38f661",
   "metadata": {},
   "outputs": [],
   "source": [
    "test_token=tf.keras.preprocessing.text.Tokenizer(oov_token=\"<OOV>\")\n",
    "test_token.fit_on_texts(test_x)\n",
    "test_sequences=test_token.texts_to_sequences(test_x)\n",
    "test_padded_sequences=tf.keras.preprocessing.sequence.pad_sequences(test_sequences,maxlen=50,padding=\"post\",truncating=\"post\")"
   ]
  },
  {
   "cell_type": "code",
   "execution_count": 172,
   "id": "77579930",
   "metadata": {},
   "outputs": [
    {
     "name": "stdout",
     "output_type": "stream",
     "text": [
      "WARNING:tensorflow:5 out of the last 4718 calls to <function Model.make_predict_function.<locals>.predict_function at 0x000001A72DB5F670> triggered tf.function retracing. Tracing is expensive and the excessive number of tracings could be due to (1) creating @tf.function repeatedly in a loop, (2) passing tensors with different shapes, (3) passing Python objects instead of tensors. For (1), please define your @tf.function outside of the loop. For (2), @tf.function has reduce_retracing=True option that can avoid unnecessary retracing. For (3), please refer to https://www.tensorflow.org/guide/function#controlling_retracing and https://www.tensorflow.org/api_docs/python/tf/function for  more details.\n"
     ]
    },
    {
     "name": "stderr",
     "output_type": "stream",
     "text": [
      "WARNING:tensorflow:5 out of the last 4718 calls to <function Model.make_predict_function.<locals>.predict_function at 0x000001A72DB5F670> triggered tf.function retracing. Tracing is expensive and the excessive number of tracings could be due to (1) creating @tf.function repeatedly in a loop, (2) passing tensors with different shapes, (3) passing Python objects instead of tensors. For (1), please define your @tf.function outside of the loop. For (2), @tf.function has reduce_retracing=True option that can avoid unnecessary retracing. For (3), please refer to https://www.tensorflow.org/guide/function#controlling_retracing and https://www.tensorflow.org/api_docs/python/tf/function for  more details.\n"
     ]
    },
    {
     "name": "stdout",
     "output_type": "stream",
     "text": [
      "1/1 [==============================] - 0s 180ms/step\n"
     ]
    },
    {
     "data": {
      "text/plain": [
       "array([[0.],\n",
       "       [1.]], dtype=float32)"
      ]
     },
     "execution_count": 172,
     "metadata": {},
     "output_type": "execute_result"
    }
   ],
   "source": [
    "np.round(model.predict(test_padded_sequences))"
   ]
  },
  {
   "cell_type": "markdown",
   "id": "a968435e",
   "metadata": {},
   "source": [
    "# Save The Model"
   ]
  },
  {
   "cell_type": "code",
   "execution_count": 173,
   "id": "f2208c55",
   "metadata": {},
   "outputs": [],
   "source": [
    "model.save(\"movie_reviews_classifier.h5\")"
   ]
  },
  {
   "cell_type": "markdown",
   "id": "e12fc49c",
   "metadata": {},
   "source": [
    "# Convert To TFLite Model For Edge Devices"
   ]
  },
  {
   "cell_type": "code",
   "execution_count": 174,
   "id": "82312bad",
   "metadata": {},
   "outputs": [
    {
     "name": "stdout",
     "output_type": "stream",
     "text": [
      "INFO:tensorflow:Assets written to: C:\\Users\\speed\\AppData\\Local\\Temp\\tmp7sdyovra\\assets\n"
     ]
    },
    {
     "name": "stderr",
     "output_type": "stream",
     "text": [
      "INFO:tensorflow:Assets written to: C:\\Users\\speed\\AppData\\Local\\Temp\\tmp7sdyovra\\assets\n"
     ]
    }
   ],
   "source": [
    "tf_lite_converter=tf.lite.TFLiteConverter.from_keras_model(model)\n",
    "with open(\"movie_reviews_classifier.tflite\",\"wb\")as f:\n",
    "    f.write(tf_lite_converter.convert())"
   ]
  }
 ],
 "metadata": {
  "kernelspec": {
   "display_name": "Python 3 (ipykernel)",
   "language": "python",
   "name": "python3"
  },
  "language_info": {
   "codemirror_mode": {
    "name": "ipython",
    "version": 3
   },
   "file_extension": ".py",
   "mimetype": "text/x-python",
   "name": "python",
   "nbconvert_exporter": "python",
   "pygments_lexer": "ipython3",
   "version": "3.9.7"
  }
 },
 "nbformat": 4,
 "nbformat_minor": 5
}
